{
 "metadata": {
  "name": "",
  "signature": "sha256:866e05d3ba3d4529d70b8ae9ad703cd34a42995d3ac2f4f9abf24ad016c51485"
 },
 "nbformat": 3,
 "nbformat_minor": 0,
 "worksheets": [
  {
   "cells": [
    {
     "cell_type": "code",
     "collapsed": false,
     "input": [
      "import matplotlib.pyplot as plt\n",
      "import pandas as pd\n",
      "import collections\n",
      "import string\n",
      "%matplotlib inline\n",
      "\n",
      "from cipherbreak import *\n",
      "\n",
      "c4a = open('2014/4a.ciphertext').read()\n",
      "c4b = open('2014/4b.ciphertext').read()"
     ],
     "language": "python",
     "metadata": {},
     "outputs": [],
     "prompt_number": 1
    },
    {
     "cell_type": "code",
     "collapsed": false,
     "input": [
      "freqs = pd.Series(english_counts)\n",
      "freqs.plot(kind='bar')"
     ],
     "language": "python",
     "metadata": {},
     "outputs": [
      {
       "metadata": {},
       "output_type": "pyout",
       "prompt_number": 8,
       "text": [
        "<matplotlib.axes.AxesSubplot at 0x7fab5a892908>"
       ]
      },
      {
       "metadata": {},
       "output_type": "display_data",
       "png": "[encoded data removed]",
       "text": [
        "<matplotlib.figure.Figure at 0x7fab5a892a58>"
       ]
      }
     ],
     "prompt_number": 8
    },
    {
     "cell_type": "code",
     "collapsed": false,
     "input": [
      "c4bs = sanitise(c4b)\n",
      "c4bs"
     ],
     "language": "python",
     "metadata": {},
     "outputs": [
      {
       "metadata": {},
       "output_type": "pyout",
       "prompt_number": 17,
       "text": [
        "'prsaoegerauiadmwehdnisnrasawuaaessrefgdosogvorbeeeaartesctdfmenuibrttlmeytumtmeuaikwhutkwerwahmnpwraeesononesebatoihacineetbrotadaktgfeesyioflttlstiiaeosvieonsrrtaupmnnoaencocnuvrsclvdrgctaiihriciaihrsduomrlemcrngleomarfhiuewhalcsasracufrawwsmehulstoaohceletmtoilsepdmumtptrslyrhhntpanwpmoadppdwbeseoassltmlpesletuncorerlclitaosvsiniifwseafortaaduyenenonnsopfhontwkoertcslyvoeiohlufoeioetsthtsbreneveaouepgieesobduorsfeercdyadutaepeadrdigseebfuoggopogalyfewsoeemdntohrebhaaesneworgnfiaulnlwadueodcotrargvuenewhiertlauilmsoniotmuinewaiuewloerstttisdrsasnussiesmerdhetryrhpnlrtereadmredebnntrnenwmoutrdosaneowomcgidciasaontiioiascesissupcrmoybrineyweelaylewtyrtilhsto'"
       ]
      }
     ],
     "prompt_number": 17
    },
    {
     "cell_type": "code",
     "collapsed": false,
     "input": [
      "key_a, score = keyword_break_mp(c4a)\n",
      "key_a, score"
     ],
     "language": "python",
     "metadata": {},
     "outputs": [
      {
       "metadata": {},
       "output_type": "pyout",
       "prompt_number": 5,
       "text": [
        "(('stern', <KeywordWrapAlphabet.from_largest: 3>), -830.5838133421847)"
       ]
      }
     ],
     "prompt_number": 5
    },
    {
     "cell_type": "code",
     "collapsed": false,
     "input": [
      "print(' '.join(segment(keyword_decipher(sanitise(c4a), key_a[0], key_a[1]))))"
     ],
     "language": "python",
     "metadata": {},
     "outputs": [
      {
       "output_type": "stream",
       "stream": "stdout",
       "text": [
        "harry we completed the survey and you are not going to believe what we found behind the false bulkhead in the stern there was a large pumping station connected to a number of sea facing outlets it looks like a scuttling valve system similar to the ones used on u boats in world war two icant understand why they would goto so much effort when they could have scuttled her at anytime with a small quantity of plastic explosive the team back at nsa have run some analytics on the remaining text files we extracted from the servers onboard these ciphers are going to be pretty hard to crack the attached report has frequency analysis matching usual english text so we can assume that the sender was a native speaker did you have any thoughts on what the nautilus system might have been or what it was for\n"
       ]
      }
     ],
     "prompt_number": 6
    },
    {
     "cell_type": "code",
     "collapsed": false,
     "input": [
      "key_b, score = column_transposition_break_mp(c4bs)\n",
      "key_b, score"
     ],
     "language": "python",
     "metadata": {},
     "outputs": [
      {
       "metadata": {},
       "output_type": "pyout",
       "prompt_number": 39,
       "text": [
        "(((6, 0, 1, 7, 9, 4, 2, 3, 5, 8, 10), False, True), -1777.161911681522)"
       ]
      }
     ],
     "prompt_number": 39
    },
    {
     "cell_type": "code",
     "collapsed": false,
     "input": [
      "print(' '.join(segment(sanitise(column_transposition_decipher(sanitise(c4bs), key_b[0], key_b[1], key_b[2])))))"
     ],
     "language": "python",
     "metadata": {},
     "outputs": [
      {
       "output_type": "stream",
       "stream": "stdout",
       "text": [
        "rar rrc tee eat flen var rire epymeslntnkeeeeepbln suce lnrsdreowaeyahsdaebt ture t be sonr is nu ahl drool ciano it vs ref ytnlowmesnhtbuoosbys ghuoaeywmoaaiarnvimo art ttt plnas yfcutuuadgserarriuii yaro i iue ted as an thn nc do etc dcr mla oop pdt coeehsfseodioobgdgt oeser dns do pyyeewdemekhnhtyirel roe hfs mmnpsutwuptlhodyrgw row a en its re tdg is nw rna or uuup eia foa or ilac wait a wmo san olobprugpehnuvltwdsh me acic wrp in so srm wa be gti muth ch smc elp seri row o on eeee a dead nii earl dmos colla ms fed laws or et nos idge cue mha a elias eos eoc a ufo ent hsw tue ent mn irl tai eg tim twsnklsucgaerswolrn blrvfenyergstsoeafeu am lrm prnn i are to wage f miao ios is a chul wultuhdstifdorhtabd doe hwl rio at strn rcts ieoussvebtkreettvpnc imf as hss we peso ntvieifaegmaioeuuose new e as me i\n"
       ]
      }
     ],
     "prompt_number": 40
    },
    {
     "cell_type": "code",
     "collapsed": false,
     "input": [
      "key_b, score = column_transposition_break_mp(c4bs, fitness=Ptrigrams)\n",
      "key_b, score"
     ],
     "language": "python",
     "metadata": {},
     "outputs": [
      {
       "metadata": {},
       "output_type": "pyout",
       "prompt_number": 41,
       "text": [
        "(((4, 8, 0, 6, 9, 3, 1, 2, 5, 7, 10), False, True), -2823.7851213306785)"
       ]
      }
     ],
     "prompt_number": 41
    },
    {
     "cell_type": "code",
     "collapsed": false,
     "input": [
      "print(' '.join(segment(sanitise(column_transposition_decipher(sanitise(c4bs), key_b[0], key_b[1], key_b[2])))))"
     ],
     "language": "python",
     "metadata": {},
     "outputs": [
      {
       "output_type": "stream",
       "stream": "stdout",
       "text": [
        "sda ebt ture t be sonr is nu ahl drool ciano it vs ref ytnlowmesnhtbuoosbys ghuoaeywmoaaiarnvimo art ttt plnas yfcutuuadgserarriuii yaro i iue ted as an thn nc do etc dcr mla oop pdt coeehsfseodioobgdgt oeser dns do pyyeewdemekhnhtyirel roe hfs mmnpsutwuptlhodyrgw row a en its re tdg is nwp in so srm wa be gti muth ch smc elp seri row o on eeee a dead nii earl dmos coll rna or uuup eia foa or ilac wait a wmo san olobprugpehnuvltwdsh meac icw rams fed laws or et nos idge cue mha a elias eos eoc a ufo ent hsw tue ent mn irl tai eg tim twsnklsucgaerswolrn blrvfenyergstsoeafeu am lrm prnn i are tra rrr c tee eat flen var rireepymeslntnkeeeee pblnsucelnrsdreowaey a how age f miao ios is a chul wultuhdstifdorhtabd doe hwl rio at strn rcts ieoussvebtkreettvpnc imf as hss we peso ntvieifaegmaioeuuose new e as me i\n"
       ]
      }
     ],
     "prompt_number": 42
    },
    {
     "cell_type": "code",
     "collapsed": false,
     "input": [
      "freqs_4b = pd.Series(collections.Counter([l.lower() for l in c4b if l in string.ascii_letters]))\n",
      "freqs_4b.plot(kind='bar')"
     ],
     "language": "python",
     "metadata": {},
     "outputs": [
      {
       "metadata": {},
       "output_type": "pyout",
       "prompt_number": 9,
       "text": [
        "<matplotlib.axes.AxesSubplot at 0x7fab6b06ce10>"
       ]
      },
      {
       "metadata": {},
       "output_type": "display_data",
       "png": "[encoded data removed]",
       "text": [
        "<matplotlib.figure.Figure at 0x7fab6b07f438>"
       ]
      }
     ],
     "prompt_number": 9
    },
    {
     "cell_type": "code",
     "collapsed": false,
     "input": [
      "c4bs = sanitise(c4b)\n",
      "c4bs"
     ],
     "language": "python",
     "metadata": {},
     "outputs": [
      {
       "metadata": {},
       "output_type": "pyout",
       "prompt_number": 17,
       "text": [
        "'prsaoegerauiadmwehdnisnrasawuaaessrefgdosogvorbeeeaartesctdfmenuibrttlmeytumtmeuaikwhutkwerwahmnpwraeesononesebatoihacineetbrotadaktgfeesyioflttlstiiaeosvieonsrrtaupmnnoaencocnuvrsclvdrgctaiihriciaihrsduomrlemcrngleomarfhiuewhalcsasracufrawwsmehulstoaohceletmtoilsepdmumtptrslyrhhntpanwpmoadppdwbeseoassltmlpesletuncorerlclitaosvsiniifwseafortaaduyenenonnsopfhontwkoertcslyvoeiohlufoeioetsthtsbreneveaouepgieesobduorsfeercdyadutaepeadrdigseebfuoggopogalyfewsoeemdntohrebhaaesneworgnfiaulnlwadueodcotrargvuenewhiertlauilmsoniotmuinewaiuewloerstttisdrsasnussiesmerdhetryrhpnlrtereadmredebnntrnenwmoutrdosaneowomcgidciasaontiioiascesissupcrmoybrineyweelaylewtyrtilhsto'"
       ]
      }
     ],
     "prompt_number": 17
    },
    {
     "cell_type": "code",
     "collapsed": false,
     "input": [
      "len(c4bs)/(7*5*19)"
     ],
     "language": "python",
     "metadata": {},
     "outputs": [
      {
       "metadata": {},
       "output_type": "pyout",
       "prompt_number": 28,
       "text": [
        "1.0"
       ]
      }
     ],
     "prompt_number": 28
    },
    {
     "cell_type": "code",
     "collapsed": false,
     "input": [
      "print('\\n'.join(chunks(c4bs, 19)))"
     ],
     "language": "python",
     "metadata": {},
     "outputs": [
      {
       "output_type": "stream",
       "stream": "stdout",
       "text": [
        "prsaoegerauiadmwehd\n",
        "nisnrasawuaaessrefg\n",
        "dosogvorbeeeaartesc\n",
        "tdfmenuibrttlmeytum\n",
        "tmeuaikwhutkwerwahm\n",
        "npwraeesononesebato\n",
        "ihacineetbrotadaktg\n",
        "feesyioflttlstiiaeo\n",
        "svieonsrrtaupmnnoae\n",
        "ncocnuvrsclvdrgctai\n",
        "ihriciaihrsduomrlem\n",
        "crngleomarfhiuewhal\n",
        "csasracufrawwsmehul\n",
        "stoaohceletmtoilsep\n",
        "dmumtptrslyrhhntpan\n",
        "wpmoadppdwbeseoassl\n",
        "tmlpesletuncorerlcl\n",
        "itaosvsiniifwseafor\n",
        "taaduyenenonnsopfho\n",
        "ntwkoertcslyvoeiohl\n",
        "ufoeioetsthtsbrenev\n",
        "eaouepgieesobduorsf\n",
        "eercdyadutaepeadrdi\n",
        "gseebfuoggopogalyfe\n",
        "wsoeemdntohrebhaaes\n",
        "neworgnfiaulnlwadue\n",
        "odcotrargvuenewhier\n",
        "tlauilmsoniotmuinew\n",
        "aiuewloerstttisdrsa\n",
        "snussiesmerdhetryrh\n",
        "pnlrtereadmredebnnt\n",
        "rnenwmoutrdosaneowo\n",
        "mcgidciasaontiioias\n",
        "cesissupcrmoybriney\n",
        "weelaylewtyrtilhsto\n"
       ]
      }
     ],
     "prompt_number": 29
    },
    {
     "cell_type": "code",
     "collapsed": false,
     "input": [
      "print('\\n'.join(chunks(c4bs, 35)))"
     ],
     "language": "python",
     "metadata": {},
     "outputs": [
      {
       "output_type": "stream",
       "stream": "stdout",
       "text": [
        "prsaoegerauiadmwehdnisnrasawuaaessr\n",
        "efgdosogvorbeeeaartesctdfmenuibrttl\n",
        "meytumtmeuaikwhutkwerwahmnpwraeeson\n",
        "onesebatoihacineetbrotadaktgfeesyio\n",
        "flttlstiiaeosvieonsrrtaupmnnoaencoc\n",
        "nuvrsclvdrgctaiihriciaihrsduomrlemc\n",
        "rngleomarfhiuewhalcsasracufrawwsmeh\n",
        "ulstoaohceletmtoilsepdmumtptrslyrhh\n",
        "ntpanwpmoadppdwbeseoassltmlpesletun\n",
        "corerlclitaosvsiniifwseafortaaduyen\n",
        "enonnsopfhontwkoertcslyvoeiohlufoei\n",
        "oetsthtsbreneveaouepgieesobduorsfee\n",
        "rcdyadutaepeadrdigseebfuoggopogalyf\n",
        "ewsoeemdntohrebhaaesneworgnfiaulnlw\n",
        "adueodcotrargvuenewhiertlauilmsonio\n",
        "tmuinewaiuewloerstttisdrsasnussiesm\n",
        "erdhetryrhpnlrtereadmredebnntrnenwm\n",
        "outrdosaneowomcgidciasaontiioiasces\n",
        "issupcrmoybrineyweelaylewtyrtilhsto\n"
       ]
      }
     ],
     "prompt_number": 30
    },
    {
     "cell_type": "code",
     "collapsed": false,
     "input": [
      "print('\\n'.join(chunks(c4bs, 5)))"
     ],
     "language": "python",
     "metadata": {},
     "outputs": [
      {
       "output_type": "stream",
       "stream": "stdout",
       "text": [
        "prsao\n",
        "egera\n",
        "uiadm\n",
        "wehdn\n",
        "isnra\n",
        "sawua\n",
        "aessr\n",
        "efgdo\n",
        "sogvo\n",
        "rbeee\n",
        "aarte\n",
        "sctdf\n",
        "menui\n",
        "brttl\n",
        "meytu\n",
        "mtmeu\n",
        "aikwh\n",
        "utkwe\n",
        "rwahm\n",
        "npwra\n",
        "eeson\n",
        "onese\n",
        "batoi\n",
        "hacin\n",
        "eetbr\n",
        "otada\n",
        "ktgfe\n",
        "esyio\n",
        "flttl\n",
        "stiia\n",
        "eosvi\n",
        "eonsr\n",
        "rtaup\n",
        "mnnoa\n",
        "encoc\n",
        "nuvrs\n",
        "clvdr\n",
        "gctai\n",
        "ihric\n",
        "iaihr\n",
        "sduom\n",
        "rlemc\n",
        "rngle\n",
        "omarf\n",
        "hiuew\n",
        "halcs\n",
        "asrac\n",
        "ufraw\n",
        "wsmeh\n",
        "ulsto\n",
        "aohce\n",
        "letmt\n",
        "oilse\n",
        "pdmum\n",
        "tptrs\n",
        "lyrhh\n",
        "ntpan\n",
        "wpmoa\n",
        "dppdw\n",
        "beseo\n",
        "asslt\n",
        "mlpes\n",
        "letun\n",
        "corer\n",
        "lclit\n",
        "aosvs\n",
        "iniif\n",
        "wseaf\n",
        "ortaa\n",
        "duyen\n",
        "enonn\n",
        "sopfh\n",
        "ontwk\n",
        "oertc\n",
        "slyvo\n",
        "eiohl\n",
        "ufoei\n",
        "oetst\n",
        "htsbr\n",
        "eneve\n",
        "aouep\n",
        "giees\n",
        "obduo\n",
        "rsfee\n",
        "rcdya\n",
        "dutae\n",
        "peadr\n",
        "digse\n",
        "ebfuo\n",
        "ggopo\n",
        "galyf\n",
        "ewsoe\n",
        "emdnt\n",
        "ohreb\n",
        "haaes\n",
        "newor\n",
        "gnfia\n",
        "ulnlw\n",
        "adueo\n",
        "dcotr\n",
        "argvu\n",
        "enewh\n",
        "iertl\n",
        "auilm\n",
        "sonio\n",
        "tmuin\n",
        "ewaiu\n",
        "ewloe\n",
        "rsttt\n",
        "isdrs\n",
        "asnus\n",
        "siesm\n",
        "erdhe\n",
        "tryrh\n",
        "pnlrt\n",
        "eread\n",
        "mrede\n",
        "bnntr\n",
        "nenwm\n",
        "outrd\n",
        "osane\n",
        "owomc\n",
        "gidci\n",
        "asaon\n",
        "tiioi\n",
        "asces\n",
        "issup\n",
        "crmoy\n",
        "brine\n",
        "yweel\n",
        "aylew\n",
        "tyrti\n",
        "lhsto\n"
       ]
      }
     ],
     "prompt_number": 32
    },
    {
     "cell_type": "code",
     "collapsed": false,
     "input": [],
     "language": "python",
     "metadata": {},
     "outputs": []
    }
   ],
   "metadata": {}
  }
 ]
}